{
 "cells": [
  {
   "cell_type": "code",
   "execution_count": 34,
   "metadata": {},
   "outputs": [],
   "source": [
    "import numpy as np\n",
    "from qiskit import QuantumCircuit, transpile\n",
    "from qiskit.providers.aer import QasmSimulator\n",
    "from qiskit.visualization import plot_histogram"
   ]
  },
  {
   "cell_type": "markdown",
   "metadata": {},
   "source": [
    "# Define Gates"
   ]
  },
  {
   "cell_type": "markdown",
   "metadata": {},
   "source": [
    "### Reverse CNOT"
   ]
  },
  {
   "cell_type": "code",
   "execution_count": 28,
   "metadata": {},
   "outputs": [
    {
     "data": {
      "text/html": [
       "<pre style=\"word-wrap: normal;white-space: pre;background: #fff0;line-height: 1.1;font-family: &quot;Courier New&quot;,Courier,monospace\">     ┌───┐     ┌───┐\n",
       "q_0: ┤ H ├──■──┤ H ├\n",
       "     ├───┤┌─┴─┐├───┤\n",
       "q_1: ┤ H ├┤ X ├┤ H ├\n",
       "     └───┘└───┘└───┘</pre>"
      ],
      "text/plain": [
       "     ┌───┐     ┌───┐\n",
       "q_0: ┤ H ├──■──┤ H ├\n",
       "     ├───┤┌─┴─┐├───┤\n",
       "q_1: ┤ H ├┤ X ├┤ H ├\n",
       "     └───┘└───┘└───┘"
      ]
     },
     "execution_count": 28,
     "metadata": {},
     "output_type": "execute_result"
    }
   ],
   "source": [
    "c = QuantumCircuit(2)\n",
    "c.h(0)\n",
    "c.h(1)\n",
    "c.cx(0,1)\n",
    "c.h(0)\n",
    "c.h(1)\n",
    "revcx = c.to_gate(label=\"rev_CNOT\")\n",
    "c.draw()"
   ]
  },
  {
   "cell_type": "markdown",
   "metadata": {},
   "source": [
    "### Peres Gate"
   ]
  },
  {
   "cell_type": "code",
   "execution_count": 29,
   "metadata": {},
   "outputs": [
    {
     "data": {
      "text/html": [
       "<pre style=\"word-wrap: normal;white-space: pre;background: #fff0;line-height: 1.1;font-family: &quot;Courier New&quot;,Courier,monospace\">               \n",
       "q_0: ──■────■──\n",
       "       │  ┌─┴─┐\n",
       "q_1: ──■──┤ X ├\n",
       "     ┌─┴─┐└───┘\n",
       "q_2: ┤ X ├─────\n",
       "     └───┘     </pre>"
      ],
      "text/plain": [
       "               \n",
       "q_0: ──■────■──\n",
       "       │  ┌─┴─┐\n",
       "q_1: ──■──┤ X ├\n",
       "     ┌─┴─┐└───┘\n",
       "q_2: ┤ X ├─────\n",
       "     └───┘     "
      ]
     },
     "execution_count": 29,
     "metadata": {},
     "output_type": "execute_result"
    }
   ],
   "source": [
    "\"\"\"\n",
    "Input: a, b, c\n",
    "\n",
    "Output:\n",
    "P = a\n",
    "Q = a + b\n",
    "R = a*b + c\n",
    "\"\"\"\n",
    "c = QuantumCircuit(3)\n",
    "c.ccx(0,1,2)\n",
    "c.cx(0,1)\n",
    "peres = c.to_gate(label=\"Peres\")\n",
    "c.draw()"
   ]
  },
  {
   "cell_type": "markdown",
   "metadata": {},
   "source": [
    "### Full Adder"
   ]
  },
  {
   "cell_type": "code",
   "execution_count": 30,
   "metadata": {},
   "outputs": [
    {
     "data": {
      "text/html": [
       "<pre style=\"word-wrap: normal;white-space: pre;background: #fff0;line-height: 1.1;font-family: &quot;Courier New&quot;,Courier,monospace\">     ┌────────┐             \n",
       "q_0: ┤0       ├─────────────\n",
       "     │        │   ┌────────┐\n",
       "q_1: ┤1 Peres ├───┤0       ├\n",
       "     │        │   │        │\n",
       "q_2: ┤2       ├─X─┤1 Peres ├\n",
       "     └────────┘ │ │        │\n",
       "q_3: ───────────X─┤2       ├\n",
       "                  └────────┘</pre>"
      ],
      "text/plain": [
       "     ┌────────┐             \n",
       "q_0: ┤0       ├─────────────\n",
       "     │        │   ┌────────┐\n",
       "q_1: ┤1 Peres ├───┤0       ├\n",
       "     │        │   │        │\n",
       "q_2: ┤2       ├─X─┤1 Peres ├\n",
       "     └────────┘ │ │        │\n",
       "q_3: ───────────X─┤2       ├\n",
       "                  └────────┘"
      ]
     },
     "execution_count": 30,
     "metadata": {},
     "output_type": "execute_result"
    }
   ],
   "source": [
    "\"\"\"\n",
    "Input: \n",
    "a = 1st operand, \n",
    "b = 2nd operand, \n",
    "c = 0, \n",
    "d = c_in\n",
    "\n",
    "Output: \n",
    "P = garbage, \n",
    "Q = garbage, \n",
    "R = sum, \n",
    "T = carry\n",
    "\"\"\"\n",
    "c = QuantumCircuit(4)\n",
    "c.append(peres, [0,1,2])\n",
    "c.swap(2,3)\n",
    "c.append(peres, [1,2,3])\n",
    "fa = c.to_gate(label=\"RFA\")\n",
    "c.draw()"
   ]
  },
  {
   "cell_type": "markdown",
   "metadata": {},
   "source": [
    "### Fredkin"
   ]
  },
  {
   "cell_type": "code",
   "execution_count": 32,
   "metadata": {},
   "outputs": [
    {
     "data": {
      "text/html": [
       "<pre style=\"word-wrap: normal;white-space: pre;background: #fff0;line-height: 1.1;font-family: &quot;Courier New&quot;,Courier,monospace\">                                    \n",
       "q_0: ───────────────■───────────────\n",
       "     ┌───────────┐  │  ┌───────────┐\n",
       "q_1: ┤0          ├──■──┤0          ├\n",
       "     │  rev_CNOT │┌─┴─┐│  rev_CNOT │\n",
       "q_2: ┤1          ├┤ X ├┤1          ├\n",
       "     └───────────┘└───┘└───────────┘</pre>"
      ],
      "text/plain": [
       "                                    \n",
       "q_0: ───────────────■───────────────\n",
       "     ┌───────────┐  │  ┌───────────┐\n",
       "q_1: ┤0          ├──■──┤0          ├\n",
       "     │  rev_CNOT │┌─┴─┐│  rev_CNOT │\n",
       "q_2: ┤1          ├┤ X ├┤1          ├\n",
       "     └───────────┘└───┘└───────────┘"
      ]
     },
     "execution_count": 32,
     "metadata": {},
     "output_type": "execute_result"
    }
   ],
   "source": [
    "\"\"\"\n",
    "By considering only the output qubit Q and by using input qubits 'a' as the selection line, Fredkin gate can \n",
    "be used as a 2x1 MUX.\n",
    "\n",
    "Input: a, b, c\n",
    "\n",
    "Output:\n",
    "P = a,\n",
    "Q = a'*b + a*c\n",
    "R = a*b + a'*c\n",
    "\"\"\"\n",
    "\n",
    "c = QuantumCircuit(3)\n",
    "c.append(revcx, [1,2])\n",
    "c.ccx(0,1,2)\n",
    "c.append(revcx, [1,2])\n",
    "fredkin = c.to_gate(label=\"FG\")\n",
    "c.draw()"
   ]
  },
  {
   "cell_type": "code",
   "execution_count": null,
   "metadata": {},
   "outputs": [],
   "source": []
  }
 ],
 "metadata": {
  "interpreter": {
   "hash": "40d3a090f54c6569ab1632332b64b2c03c39dcf918b08424e98f38b5ae0af88f"
  },
  "kernelspec": {
   "display_name": "Python 3.8.3 ('base')",
   "language": "python",
   "name": "python3"
  },
  "language_info": {
   "codemirror_mode": {
    "name": "ipython",
    "version": 3
   },
   "file_extension": ".py",
   "mimetype": "text/x-python",
   "name": "python",
   "nbconvert_exporter": "python",
   "pygments_lexer": "ipython3",
   "version": "3.8.2"
  },
  "orig_nbformat": 4
 },
 "nbformat": 4,
 "nbformat_minor": 2
}
